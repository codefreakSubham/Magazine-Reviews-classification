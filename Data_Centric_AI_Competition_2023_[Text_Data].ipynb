{
  "nbformat": 4,
  "nbformat_minor": 0,
  "metadata": {
    "colab": {
      "provenance": []
    },
    "kernelspec": {
      "name": "python3",
      "display_name": "Python 3"
    },
    "language_info": {
      "name": "python"
    },
    "accelerator": "GPU",
    "gpuClass": "standard"
  },
  "cells": [
    {
      "cell_type": "code",
      "execution_count": null,
      "metadata": {
        "id": "hpFFPp7mFyf_",
        "colab": {
          "base_uri": "https://localhost:8080/"
        },
        "outputId": "8d17a513-0a9e-4861-9088-611c1fb2d14e"
      },
      "outputs": [
        {
          "output_type": "stream",
          "name": "stdout",
          "text": [
            "Mounted at /content/drive\n"
          ]
        }
      ],
      "source": [
        "from google.colab import drive\n",
        "drive.mount('/content/drive')"
      ]
    },
    {
      "cell_type": "code",
      "source": [
        "!pip install evaluate"
      ],
      "metadata": {
        "id": "rM8xWUTzMVDk"
      },
      "execution_count": null,
      "outputs": []
    },
    {
      "cell_type": "code",
      "source": [
        "import numpy as np"
      ],
      "metadata": {
        "id": "ntxhjir8M8Vu"
      },
      "execution_count": null,
      "outputs": []
    },
    {
      "cell_type": "code",
      "source": [
        "!pip install Unidecode\n",
        "!pip install -U sentence-transformers\n",
        "!pip install transformers\n",
        "import pandas as pd\n",
        "import string\n",
        "import re, unidecode\n",
        "from bs4 import BeautifulSoup\n",
        "from nltk.stem.porter import PorterStemmer\n",
        "from nltk.stem import WordNetLemmatizer\n",
        "from nltk.corpus import stopwords\n",
        "from nltk.tokenize import word_tokenize\n",
        "\n",
        "import nltk\n",
        "nltk.download('stopwords')\n",
        "nltk.download('punkt')\n",
        "nltk.download('wordnet')"
      ],
      "metadata": {
        "id": "ZQzFGkXEHqK6"
      },
      "execution_count": null,
      "outputs": []
    },
    {
      "cell_type": "code",
      "source": [
        "def remove_html_tags(text):\n",
        "    soup = BeautifulSoup(text, \"html.parser\")\n",
        "    stripped_text = soup.get_text(separator=\" \")\n",
        "    return stripped_text\n",
        "def remove_accented_chars(text):\n",
        "    text = unidecode.unidecode(text)\n",
        "    return text\n",
        "def remove_numbers(text):\n",
        "    result = re.sub(r'\\d+', '', text)\n",
        "    return result\n",
        "def remove_slash_with_space(text):\n",
        "    return text.replace('\\\\', \" \")\n",
        "def remove_punctuation(text):\n",
        "    translator = str.maketrans('', '', string.punctuation)\n",
        "    return text.translate(translator)\n",
        "def text_lowercase(text):\n",
        "    return text.lower()\n",
        "def remove_whitespace(text):\n",
        "    return  \" \".join(text.split())\n",
        "def remove_stopwords(text):\n",
        "    stop_words = set(stopwords.words(\"english\"))\n",
        "    word_tokens = word_tokenize(text)\n",
        "    filtered_text = [word for word in word_tokens if word not in stop_words]\n",
        "    return ' '.join(filtered_text)\n",
        "def stem_words(text):\n",
        "    stemmer = PorterStemmer()\n",
        "    word_tokens = word_tokenize(text)\n",
        "    stems = [stemmer.stem(word) for word in word_tokens]\n",
        "    return ' '.join(stems)\n",
        "def lemmatize_words(text):\n",
        "    lemmatizer = WordNetLemmatizer()\n",
        "    word_tokens = word_tokenize(text)\n",
        "    # provide context i.e. part-of-speech\n",
        "    lemmas = [lemmatizer.lemmatize(word, pos ='v') for word in word_tokens]\n",
        "    return ' '.join(lemmas)"
      ],
      "metadata": {
        "id": "zpjCOywjHyDy"
      },
      "execution_count": null,
      "outputs": []
    },
    {
      "cell_type": "code",
      "source": [
        "def perform_preprocessing(text):\n",
        "    text = remove_html_tags(text)\n",
        "    text = remove_accented_chars(text)\n",
        "    text = remove_numbers(text)\n",
        "    #text = remove_stopwords(text)\n",
        "    text = text_lowercase(text)\n",
        "    text = remove_slash_with_space(text)\n",
        "    text = remove_punctuation(text)\n",
        "    #text = stem_words(text)\n",
        "    #text = lemmatize_words(text)\n",
        "    text = remove_whitespace(text)\n",
        "    return text"
      ],
      "metadata": {
        "id": "0K44kDzoM5mz"
      },
      "execution_count": null,
      "outputs": []
    },
    {
      "cell_type": "code",
      "source": [
        "def sentenceEmbedder(sentence):\n",
        "\n",
        "  from sentence_transformers import SentenceTransformer\n",
        "  model = SentenceTransformer('paraphrase-MiniLM-L6-v2')\n",
        "\n",
        "  #Sentences are encoded by calling model.encode()\n",
        "  embedding = model.encode(sentence)\n",
        "  return embedding"
      ],
      "metadata": {
        "id": "vjZOa4r0RK5d"
      },
      "execution_count": null,
      "outputs": []
    },
    {
      "cell_type": "code",
      "source": [
        "train = pd.read_csv(\"/content/drive/MyDrive/Particiapants_Data_DCAC/train.csv\")\n",
        "test = pd.read_csv(\"/content/drive/MyDrive/Particiapants_Data_DCAC/test.csv\")\n",
        "train_x = train.iloc[:,1]\n",
        "train_y = train.iloc[:,-1]\n",
        "test_x = test.iloc[:,1]\n",
        "train_x = train_x.apply(perform_preprocessing)\n",
        "test_x = test_x.apply(perform_preprocessing)\n",
        "train_x = train_x.to_numpy()\n",
        "train_y = train_y.to_numpy()\n",
        "test_x = test_x.to_numpy()"
      ],
      "metadata": {
        "id": "ME3AHNj8Pvk5"
      },
      "execution_count": null,
      "outputs": []
    },
    {
      "cell_type": "code",
      "source": [
        "embedding_train = sentenceEmbedder(train_x)\n",
        "embedding_test = sentenceEmbedder(test_x)"
      ],
      "metadata": {
        "id": "9gmqyfLGRny6"
      },
      "execution_count": null,
      "outputs": []
    },
    {
      "cell_type": "code",
      "source": [
        "print(embedding_train.shape)\n",
        "print(embedding_test.shape)"
      ],
      "metadata": {
        "colab": {
          "base_uri": "https://localhost:8080/"
        },
        "id": "pInJ6NNYOBjr",
        "outputId": "a49182cc-8ab6-473c-d212-0c623a3180d4"
      },
      "execution_count": null,
      "outputs": [
        {
          "output_type": "stream",
          "name": "stdout",
          "text": [
            "(12652, 384)\n",
            "(1000, 384)\n"
          ]
        }
      ]
    },
    {
      "cell_type": "code",
      "source": [
        "from sklearn.model_selection import train_test_split\n",
        "X_train, X_val, y_train, y_val = train_test_split(embedding_train, train_y, test_size=0.25, random_state=1, shuffle=True)"
      ],
      "metadata": {
        "id": "poBB8K5h_AYi"
      },
      "execution_count": null,
      "outputs": []
    },
    {
      "cell_type": "markdown",
      "source": [
        "### KNN"
      ],
      "metadata": {
        "id": "h1zUaK01Lmx7"
      }
    },
    {
      "cell_type": "code",
      "source": [
        "import matplotlib.pyplot as plt\n",
        "from sklearn.neighbors import KNeighborsClassifier\n",
        "acc = []\n",
        "# Will take some time\n",
        "from sklearn import metrics\n",
        "for i in range(1,40):\n",
        "    knn = KNeighborsClassifier(n_neighbors = i).fit(X_train,y_train)\n",
        "    yhat = knn.predict(X_val)\n",
        "    acc.append(metrics.accuracy_score(y_val, yhat))\n",
        "\n",
        "plt.figure(figsize=(10,6))\n",
        "plt.plot(range(1,40),acc,color = 'blue',linestyle='dashed',\n",
        "         marker='o',markerfacecolor='red', markersize=10)\n",
        "plt.title('accuracy vs. K Value')\n",
        "plt.xlabel('K')\n",
        "plt.ylabel('Accuracy')\n",
        "print(\"Maximum accuracy:-\",max(acc),\"at K =\",acc.index(max(acc)))"
      ],
      "metadata": {
        "colab": {
          "base_uri": "https://localhost:8080/",
          "height": 421
        },
        "id": "1Zn4FWMACNr9",
        "outputId": "c9bfa1af-25b3-4761-98be-46ff315864ad"
      },
      "execution_count": null,
      "outputs": [
        {
          "output_type": "stream",
          "name": "stdout",
          "text": [
            "Maximum accuracy:- 0.6035409421435346 at K = 25\n"
          ]
        },
        {
          "output_type": "display_data",
          "data": {
            "text/plain": [
              "<Figure size 720x432 with 1 Axes>"
            ],
            "image/png": "[encoded data removed]"
          },
          "metadata": {
            "needs_background": "light"
          }
        }
      ]
    },
    {
      "cell_type": "code",
      "source": [
        "from sklearn.neighbors import KNeighborsClassifier\n",
        "knn = KNeighborsClassifier(n_neighbors=25)\n",
        "#knn.fit(X_train, y_train)\n",
        "knn.fit(embedding_train, train_y)"
      ],
      "metadata": {
        "colab": {
          "base_uri": "https://localhost:8080/"
        },
        "id": "G9GcLtjEEsbY",
        "outputId": "4d4af19c-05a2-48c3-c53d-24de4ed9a674"
      },
      "execution_count": null,
      "outputs": [
        {
          "output_type": "execute_result",
          "data": {
            "text/plain": [
              "KNeighborsClassifier(n_neighbors=25)"
            ]
          },
          "metadata": {},
          "execution_count": 15
        }
      ]
    },
    {
      "cell_type": "code",
      "source": [
        "predictions = knn.predict(X_val)\n",
        "knn.score(X_val, y_val)"
      ],
      "metadata": {
        "colab": {
          "base_uri": "https://localhost:8080/"
        },
        "id": "tni1tD0BExNw",
        "outputId": "6ab9b661-f74c-4e3f-dd12-30970a7ef02b"
      },
      "execution_count": null,
      "outputs": [
        {
          "output_type": "execute_result",
          "data": {
            "text/plain": [
              "0.6380018969332911"
            ]
          },
          "metadata": {},
          "execution_count": 17
        }
      ]
    },
    {
      "cell_type": "code",
      "source": [
        "predictions = knn.predict(embedding_test)"
      ],
      "metadata": {
        "id": "-iQ4mOgwE7EA"
      },
      "execution_count": null,
      "outputs": []
    },
    {
      "cell_type": "code",
      "source": [
        "predictions.shape"
      ],
      "metadata": {
        "colab": {
          "base_uri": "https://localhost:8080/"
        },
        "id": "KUqc5Is1GcV7",
        "outputId": "e9e9651f-481d-4e45-8872-16055f66e79b"
      },
      "execution_count": null,
      "outputs": [
        {
          "output_type": "execute_result",
          "data": {
            "text/plain": [
              "(1000,)"
            ]
          },
          "metadata": {},
          "execution_count": 19
        }
      ]
    },
    {
      "cell_type": "code",
      "source": [
        "results = pd.DataFrame(predictions)\n",
        "with open('submission_file.csv', 'w') as f:\n",
        "     f.write('label\\n')\n",
        "results.to_csv('submission_file.csv', index=False, header=False, mode='a')\n",
        "results.shape"
      ],
      "metadata": {
        "colab": {
          "base_uri": "https://localhost:8080/"
        },
        "id": "inLefRONFYIa",
        "outputId": "c2b54f61-4a52-41fe-c736-bb5224c153ad"
      },
      "execution_count": null,
      "outputs": [
        {
          "output_type": "execute_result",
          "data": {
            "text/plain": [
              "(1000, 1)"
            ]
          },
          "metadata": {},
          "execution_count": 20
        }
      ]
    }
  ]
}